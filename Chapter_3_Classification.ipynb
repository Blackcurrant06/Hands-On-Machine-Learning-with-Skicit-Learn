{
  "cells": [
    {
      "cell_type": "markdown",
      "id": "bf65cdba",
      "metadata": {
        "id": "bf65cdba"
      },
      "source": [
        "\n",
        "# **Chapter 3: Classification**\n",
        "\n",
        "## **1. Pendahuluan**\n",
        "\n",
        "Chapter 3 membahas salah satu tugas Machine Learning paling umum yaitu **classification**. Pada tugas ini, tujuan model adalah memprediksi *label* kategori (kelas) untuk setiap input. Contoh praktisnya adalah pengenalan tulisan tangan menggunakan dataset **MNIST**.\n",
        "\n",
        "## **2. Dataset MNIST**\n",
        "\n",
        "- **MNIST** adalah dataset klasik yang berisi **gambar digit tangan (0–9)** ukuran 28×28 piksel.\n",
        "- Total: 70.000 gambar digit.\n",
        "- Sudah dibagi: 60.000 untuk training, 10.000 untuk testing.\n",
        "\n",
        "## **3. Training a Binary Classifier**\n",
        "\n",
        "Sebagai contoh awal, penulis melatih **binary classifier**: mendeteksi angka **5** (True) atau **bukan 5** (False).\n"
      ]
    },
    {
      "cell_type": "code",
      "execution_count": null,
      "id": "df9d22d1",
      "metadata": {
        "id": "df9d22d1"
      },
      "outputs": [],
      "source": [
        "\n",
        "from sklearn.datasets import fetch_openml\n",
        "from sklearn.linear_model import SGDClassifier\n",
        "import numpy as np\n",
        "\n",
        "# Ambil dataset MNIST\n",
        "mnist = fetch_openml('mnist_784', version=1, as_frame=False)\n",
        "X, y = mnist[\"data\"], mnist[\"target\"]\n",
        "y = y.astype(np.uint8)\n",
        "\n",
        "# Buat target: True jika 5, False jika bukan\n",
        "y_5 = (y == 5)\n",
        "\n",
        "# Pisah training & test\n",
        "X_train, X_test = X[:60000], X[60000:]\n",
        "y_train_5, y_test_5 = y_5[:60000], y_5[60000:]\n",
        "\n",
        "# Latih classifier\n",
        "sgd_clf = SGDClassifier(random_state=42)\n",
        "sgd_clf.fit(X_train, y_train_5)\n",
        "\n",
        "# Prediksi satu gambar\n",
        "sgd_clf.predict([X[0]])\n"
      ]
    },
    {
      "cell_type": "markdown",
      "id": "24b3d08f",
      "metadata": {
        "id": "24b3d08f"
      },
      "source": [
        "\n",
        "## **4. Performance Measures**\n",
        "\n",
        "### **a) Accuracy**\n",
        "\n",
        "Akurasi = proporsi prediksi benar. Tidak cocok untuk dataset tidak seimbang.\n",
        "\n",
        "### **b) Confusion Matrix**\n",
        "\n",
        "Matriks untuk melihat True Positives, True Negatives, False Positives, dan False Negatives.\n"
      ]
    },
    {
      "cell_type": "code",
      "execution_count": null,
      "id": "e2685dda",
      "metadata": {
        "id": "e2685dda"
      },
      "outputs": [],
      "source": [
        "\n",
        "from sklearn.model_selection import cross_val_predict\n",
        "from sklearn.metrics import confusion_matrix\n",
        "\n",
        "# Cross-val predictions\n",
        "y_train_pred = cross_val_predict(sgd_clf, X_train, y_train_5, cv=3)\n",
        "\n",
        "# Confusion Matrix\n",
        "confusion_matrix(y_train_5, y_train_pred)\n"
      ]
    },
    {
      "cell_type": "markdown",
      "id": "9bf1f8c6",
      "metadata": {
        "id": "9bf1f8c6"
      },
      "source": [
        "\n",
        "### **c) Precision, Recall, F1 Score**\n",
        "\n",
        "- **Precision (Presisi):**\n",
        "\n",
        "$$\n",
        "Precision = \\frac{TP}{TP + FP}\n",
        "$$\n",
        "\n",
        "- **Recall (Sensitivity):**\n",
        "\n",
        "$$\n",
        "Recall = \\frac{TP}{TP + FN}\n",
        "$$\n",
        "\n",
        "- **F1 Score:**\n",
        "\n",
        "$$\n",
        "F1 = 2 \\times \\frac{Precision \\times Recall}{Precision + Recall}\n",
        "$$\n"
      ]
    },
    {
      "cell_type": "code",
      "execution_count": null,
      "id": "f027590d",
      "metadata": {
        "id": "f027590d"
      },
      "outputs": [],
      "source": [
        "\n",
        "from sklearn.metrics import precision_score, recall_score, f1_score\n",
        "\n",
        "precision_score(y_train_5, y_train_pred)\n",
        "recall_score(y_train_5, y_train_pred)\n",
        "f1_score(y_train_5, y_train_pred)\n"
      ]
    },
    {
      "cell_type": "markdown",
      "id": "c4fee499",
      "metadata": {
        "id": "c4fee499"
      },
      "source": [
        "\n",
        "## **5. Precision/Recall Trade-off**\n",
        "\n",
        "Model memiliki ambang batas (*threshold*) yang mempengaruhi precision dan recall.\n",
        "\n",
        "## **6. ROC Curve**\n",
        "\n",
        "ROC Curve memperlihatkan trade-off antara True Positive Rate (Recall) dan False Positive Rate.\n",
        "\n"
      ]
    },
    {
      "cell_type": "code",
      "execution_count": null,
      "id": "ef448a86",
      "metadata": {
        "id": "ef448a86"
      },
      "outputs": [],
      "source": [
        "\n",
        "y_scores = cross_val_predict(sgd_clf, X_train, y_train_5, cv=3, method=\"decision_function\")\n",
        "\n",
        "from sklearn.metrics import precision_recall_curve\n",
        "precisions, recalls, thresholds = precision_recall_curve(y_train_5, y_scores)\n",
        "\n",
        "import matplotlib.pyplot as plt\n",
        "plt.plot(thresholds, precisions[:-1], \"b--\", label=\"Precision\")\n",
        "plt.plot(thresholds, recalls[:-1], \"g-\", label=\"Recall\")\n",
        "plt.xlabel(\"Threshold\")\n",
        "plt.legend(loc=\"best\")\n",
        "plt.show()\n",
        "\n",
        "from sklearn.metrics import roc_curve\n",
        "\n",
        "fpr, tpr, thresholds = roc_curve(y_train_5, y_scores)\n",
        "plt.plot(fpr, tpr)\n",
        "plt.xlabel('False Positive Rate')\n",
        "plt.ylabel('True Positive Rate')\n",
        "plt.title('ROC Curve')\n",
        "plt.show()\n"
      ]
    },
    {
      "cell_type": "markdown",
      "id": "b083b872",
      "metadata": {
        "id": "b083b872"
      },
      "source": [
        "\n",
        "## **7. Multiclass, Multilabel, Multioutput**\n",
        "\n",
        "Scikit-Learn secara otomatis menangani klasifikasi multikelas (OvA, OvO) dan mendukung multilabel serta multioutput.\n",
        "\n"
      ]
    }
  ],
  "metadata": {
    "colab": {
      "provenance": []
    }
  },
  "nbformat": 4,
  "nbformat_minor": 5
}