{
  "cells": [
    {
      "cell_type": "markdown",
      "id": "1c6423b1",
      "metadata": {
        "id": "1c6423b1"
      },
      "source": [
        "\n",
        "# Chapter 12: Custom Models and Training with TensorFlow\n",
        "\n",
        "## 1. Pendahuluan\n",
        "\n",
        "Pada bab ini, kita belajar bagaimana membuat **model kustom**, **fungsi aktivasi kustom**, **fungsi loss kustom**, dan bagaimana melatih model menggunakan **loop training kustom** dengan **TensorFlow**. Hal ini memberi fleksibilitas penuh untuk eksperimen arsitektur dan algoritma.\n"
      ]
    },
    {
      "cell_type": "markdown",
      "id": "838cb5d0",
      "metadata": {
        "id": "838cb5d0"
      },
      "source": [
        "\n",
        "## 2. Pengenalan TensorFlow\n",
        "\n",
        "TensorFlow adalah framework untuk komputasi numerik yang mendukung operasi vektor dan matriks dengan efisien, terutama pada GPU.\n"
      ]
    },
    {
      "cell_type": "code",
      "execution_count": null,
      "id": "cb53d854",
      "metadata": {
        "id": "cb53d854"
      },
      "outputs": [],
      "source": [
        "\n",
        "import tensorflow as tf\n",
        "\n",
        "a = tf.constant([[1, 2], [3, 4]])\n",
        "b = tf.constant([[1, 0], [0, 1]])\n",
        "c = tf.matmul(a, b)\n",
        "\n",
        "print(c)\n"
      ]
    },
    {
      "cell_type": "markdown",
      "id": "6ac24c8b",
      "metadata": {
        "id": "6ac24c8b"
      },
      "source": [
        "\n",
        "## 3. Variables dan Operations\n",
        "\n",
        "TensorFlow mendukung `Variable` untuk menyimpan parameter yang dapat dilatih.\n"
      ]
    },
    {
      "cell_type": "code",
      "execution_count": null,
      "id": "5eba6131",
      "metadata": {
        "id": "5eba6131"
      },
      "outputs": [],
      "source": [
        "\n",
        "x = tf.Variable(3.0)\n",
        "\n",
        "with tf.GradientTape() as tape:\n",
        "    y = x ** 2\n",
        "\n",
        "dy_dx = tape.gradient(y, [x])\n",
        "print(dy_dx)\n"
      ]
    },
    {
      "cell_type": "markdown",
      "id": "0749eb88",
      "metadata": {
        "id": "0749eb88"
      },
      "source": [
        "\n",
        "## 4. Custom Loss Function\n",
        "\n",
        "Buat fungsi loss sendiri:\n"
      ]
    },
    {
      "cell_type": "code",
      "execution_count": null,
      "id": "effc001b",
      "metadata": {
        "id": "effc001b"
      },
      "outputs": [],
      "source": [
        "\n",
        "def my_mse(y_true, y_pred):\n",
        "    return tf.reduce_mean(tf.square(y_true - y_pred))\n"
      ]
    },
    {
      "cell_type": "markdown",
      "id": "503a9f51",
      "metadata": {
        "id": "503a9f51"
      },
      "source": [
        "\n",
        "## 5. Custom Activation, Initializer, Regularizer\n",
        "\n",
        "Contoh aktivasi kustom (Swish):\n"
      ]
    },
    {
      "cell_type": "code",
      "execution_count": null,
      "id": "2b3e7801",
      "metadata": {
        "id": "2b3e7801"
      },
      "outputs": [],
      "source": [
        "\n",
        "from tensorflow.keras.layers import Layer\n",
        "import tensorflow as tf\n",
        "\n",
        "class Swish(Layer):\n",
        "    def call(self, inputs):\n",
        "        return inputs * tf.nn.sigmoid(inputs)\n"
      ]
    },
    {
      "cell_type": "markdown",
      "id": "711408fc",
      "metadata": {
        "id": "711408fc"
      },
      "source": [
        "\n",
        "## 6. Custom Layer\n",
        "\n",
        "Contoh layer kustom:\n"
      ]
    },
    {
      "cell_type": "code",
      "execution_count": null,
      "id": "7666db9b",
      "metadata": {
        "id": "7666db9b"
      },
      "outputs": [],
      "source": [
        "\n",
        "class MyDenseLayer(tf.keras.layers.Layer):\n",
        "    def __init__(self, units):\n",
        "        super().__init__()\n",
        "        self.units = units\n",
        "\n",
        "    def build(self, input_shape):\n",
        "        self.w = self.add_weight(shape=(input_shape[-1], self.units),\n",
        "                                 initializer=\"random_normal\")\n",
        "        self.b = self.add_weight(shape=(self.units,), initializer=\"zeros\")\n",
        "\n",
        "    def call(self, inputs):\n",
        "        return tf.matmul(inputs, self.w) + self.b\n"
      ]
    },
    {
      "cell_type": "markdown",
      "id": "4ee3ca9e",
      "metadata": {
        "id": "4ee3ca9e"
      },
      "source": [
        "\n",
        "## 7. Custom Model\n",
        "\n",
        "Contoh model kustom:\n"
      ]
    },
    {
      "cell_type": "code",
      "execution_count": null,
      "id": "b91a8cb6",
      "metadata": {
        "id": "b91a8cb6"
      },
      "outputs": [],
      "source": [
        "\n",
        "class MyModel(tf.keras.Model):\n",
        "    def __init__(self):\n",
        "        super().__init__()\n",
        "        self.dense1 = tf.keras.layers.Dense(30, activation=\"relu\")\n",
        "        self.dense2 = tf.keras.layers.Dense(1)\n",
        "\n",
        "    def call(self, inputs):\n",
        "        x = self.dense1(inputs)\n",
        "        return self.dense2(x)\n"
      ]
    },
    {
      "cell_type": "markdown",
      "id": "b4e05225",
      "metadata": {
        "id": "b4e05225"
      },
      "source": [
        "\n",
        "## 8. Training dengan Autodiff dan Custom Loop\n",
        "\n",
        "### ✏️ Hitung Gradien dengan Autodiff\n"
      ]
    },
    {
      "cell_type": "code",
      "execution_count": null,
      "id": "47a66ce6",
      "metadata": {
        "id": "47a66ce6"
      },
      "outputs": [],
      "source": [
        "\n",
        "x = tf.Variable(3.0)\n",
        "\n",
        "with tf.GradientTape() as tape:\n",
        "    y = x**2\n",
        "\n",
        "grad = tape.gradient(y, x)\n",
        "print(grad)\n"
      ]
    },
    {
      "cell_type": "markdown",
      "id": "3bc1ce04",
      "metadata": {
        "id": "3bc1ce04"
      },
      "source": [
        "\n",
        "### Loop Training Manual\n"
      ]
    },
    {
      "cell_type": "code",
      "execution_count": null,
      "id": "8d099239",
      "metadata": {
        "id": "8d099239"
      },
      "outputs": [],
      "source": [
        "\n",
        "model = MyModel()\n",
        "optimizer = tf.keras.optimizers.SGD(learning_rate=0.01)\n",
        "loss_fn = tf.keras.losses.MeanSquaredError()\n",
        "\n",
        "# Misal: X_train dan y_train sudah tersedia\n",
        "# Contoh pseudo-code\n",
        "# for epoch in range(10):\n",
        "#     with tf.GradientTape() as tape:\n",
        "#         y_pred = model(X_train)\n",
        "#         loss = loss_fn(y_train, y_pred)\n",
        "#     gradients = tape.gradient(loss, model.trainable_variables)\n",
        "#     optimizer.apply_gradients(zip(gradients, model.trainable_variables))\n"
      ]
    },
    {
      "cell_type": "markdown",
      "id": "be827c8a",
      "metadata": {
        "id": "be827c8a"
      },
      "source": [
        "\n",
        "## 9. TensorFlow Functions (tf.function)\n",
        "\n",
        "Gunakan `@tf.function` untuk mempercepat eksekusi dengan membuat `graph`:\n"
      ]
    },
    {
      "cell_type": "code",
      "execution_count": null,
      "id": "788181b1",
      "metadata": {
        "id": "788181b1"
      },
      "outputs": [],
      "source": [
        "\n",
        "@tf.function\n",
        "def my_function(x, y):\n",
        "    return x + y\n"
      ]
    }
  ],
  "metadata": {
    "colab": {
      "provenance": []
    }
  },
  "nbformat": 4,
  "nbformat_minor": 5
}