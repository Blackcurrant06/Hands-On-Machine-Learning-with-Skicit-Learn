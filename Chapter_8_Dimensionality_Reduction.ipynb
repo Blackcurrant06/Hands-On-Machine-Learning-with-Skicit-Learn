{
  "cells": [
    {
      "cell_type": "markdown",
      "id": "dd278b19",
      "metadata": {
        "id": "dd278b19"
      },
      "source": [
        "\n",
        "# **Chapter 8: Dimensionality Reduction**\n",
        "\n",
        "## **1. Pendahuluan**\n",
        "\n",
        "Dimensionality Reduction bertujuan mengurangi jumlah fitur sambil mempertahankan informasi penting. Mengurangi komputasi, membantu visualisasi, dan mengurangi risiko overfitting.\n"
      ]
    },
    {
      "cell_type": "markdown",
      "id": "54494cda",
      "metadata": {
        "id": "54494cda"
      },
      "source": [
        "\n",
        "## **2. Curse of Dimensionality**\n",
        "\n",
        "Semakin banyak fitur, data makin jarang dan model sulit menemukan pola. Solusi: reduksi dimensi.\n"
      ]
    },
    {
      "cell_type": "markdown",
      "id": "c4c08222",
      "metadata": {
        "id": "c4c08222"
      },
      "source": [
        "\n",
        "## **3. Pendekatan Utama**\n",
        "\n",
        "1. Feature Selection: pilih subset fitur penting.  \n",
        "2. Feature Extraction: gabungkan fitur → bentuk fitur baru berdimensi lebih rendah (fokus bab ini).\n"
      ]
    },
    {
      "cell_type": "markdown",
      "id": "0f8c41aa",
      "metadata": {
        "id": "0f8c41aa"
      },
      "source": [
        "\n",
        "## **4. Principal Component Analysis (PCA)**\n",
        "\n",
        "Menemukan sumbu baru yang menjelaskan varian data maksimum.\n",
        "\n",
        "Langkah: pusatkan data, hitung kovarians, eigenvector, proyeksikan data.\n"
      ]
    },
    {
      "cell_type": "code",
      "execution_count": null,
      "id": "9b21c23c",
      "metadata": {
        "id": "9b21c23c"
      },
      "outputs": [],
      "source": [
        "\n",
        "from sklearn.decomposition import PCA\n",
        "\n",
        "pca = PCA(n_components=2)\n",
        "X2D = pca.fit_transform(X)\n",
        "\n",
        "pca.explained_variance_ratio_\n"
      ]
    },
    {
      "cell_type": "markdown",
      "id": "c7439fb4",
      "metadata": {
        "id": "c7439fb4"
      },
      "source": [
        "\n",
        "## **5. Memilih Jumlah Komponen**\n",
        "\n",
        "Pilih komponen yang menjelaskan varian ≥ 95%.\n"
      ]
    },
    {
      "cell_type": "code",
      "execution_count": null,
      "id": "635917e3",
      "metadata": {
        "id": "635917e3"
      },
      "outputs": [],
      "source": [
        "\n",
        "pca = PCA(n_components=0.95)\n",
        "X_reduced = pca.fit_transform(X)\n"
      ]
    },
    {
      "cell_type": "markdown",
      "id": "b479bf7f",
      "metadata": {
        "id": "b479bf7f"
      },
      "source": [
        "\n",
        "## **6. PCA sebagai Kompresi**\n",
        "\n",
        "Data direduksi → disimpan → direkonstruksi.\n",
        "\n",
        "**Contoh:**\n"
      ]
    },
    {
      "cell_type": "code",
      "execution_count": null,
      "id": "1ec009c1",
      "metadata": {
        "id": "1ec009c1"
      },
      "outputs": [],
      "source": [
        "\n",
        "X_recovered = pca.inverse_transform(X_reduced)\n"
      ]
    },
    {
      "cell_type": "markdown",
      "id": "b4298d18",
      "metadata": {
        "id": "b4298d18"
      },
      "source": [
        "\n",
        "## **7. Incremental PCA**\n",
        "\n",
        "Untuk dataset besar: memproses mini-batch.\n",
        "\n",
        "**Contoh:**\n"
      ]
    },
    {
      "cell_type": "code",
      "execution_count": null,
      "id": "a44ecbf4",
      "metadata": {
        "id": "a44ecbf4"
      },
      "outputs": [],
      "source": [
        "\n",
        "from sklearn.decomposition import IncrementalPCA\n",
        "\n",
        "ipca = IncrementalPCA(n_components=2, batch_size=200)\n",
        "X_reduced = ipca.fit_transform(X)\n"
      ]
    },
    {
      "cell_type": "markdown",
      "id": "1cc9179f",
      "metadata": {
        "id": "1cc9179f"
      },
      "source": [
        "\n",
        "## **8. Kernel PCA**\n",
        "\n",
        "Untuk data non-linear, memetakan data ke ruang dimensi lebih tinggi.\n",
        "\n",
        "**Contoh:**\n"
      ]
    },
    {
      "cell_type": "code",
      "execution_count": null,
      "id": "353cde98",
      "metadata": {
        "id": "353cde98"
      },
      "outputs": [],
      "source": [
        "\n",
        "from sklearn.decomposition import KernelPCA\n",
        "\n",
        "rbf_pca = KernelPCA(n_components=2, kernel=\"rbf\", gamma=0.04)\n",
        "X_reduced = rbf_pca.fit_transform(X)\n"
      ]
    },
    {
      "cell_type": "markdown",
      "id": "7f13d913",
      "metadata": {
        "id": "7f13d913"
      },
      "source": [
        "\n",
        "## **9. Locally Linear Embedding (LLE)**\n",
        "\n",
        "Metode non-linear: melestarikan hubungan lokal antar titik.\n",
        "\n",
        "**Contoh:**\n"
      ]
    },
    {
      "cell_type": "code",
      "execution_count": null,
      "id": "a5242636",
      "metadata": {
        "id": "a5242636"
      },
      "outputs": [],
      "source": [
        "\n",
        "from sklearn.manifold import LocallyLinearEmbedding\n",
        "\n",
        "lle = LocallyLinearEmbedding(n_neighbors=10, n_components=2)\n",
        "X_reduced = lle.fit_transform(X)\n"
      ]
    },
    {
      "cell_type": "markdown",
      "id": "48b3128e",
      "metadata": {
        "id": "48b3128e"
      },
      "source": [
        "\n",
        "## **10. Tips Praktis**\n",
        "\n",
        "- Lakukan Feature Scaling.\n",
        "- Gunakan reduksi dimensi sebelum training model.\n",
        "- Visualisasi hasil reduksi.\n"
      ]
    }
  ],
  "metadata": {
    "colab": {
      "provenance": []
    }
  },
  "nbformat": 4,
  "nbformat_minor": 5
}