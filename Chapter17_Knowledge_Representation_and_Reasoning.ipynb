{
  "cells": [
    {
      "cell_type": "markdown",
      "id": "108ae5ea",
      "metadata": {
        "id": "108ae5ea"
      },
      "source": [
        "\n",
        "# Chapter 17: Representing and Reasoning with Knowledge\n",
        "\n",
        "## 1. Pendahuluan\n",
        "\n",
        "Pada bab ini, fokusnya adalah bagaimana membangun sistem AI yang tidak hanya mempelajari pola dari data tetapi juga mewakili pengetahuan secara eksplisit dan melakukan penalaran logis. Pendekatan ini sering disebut Symbolic AI atau Good Old-Fashioned AI (GOFAI).\n",
        "\n",
        "Meskipun banyak masalah modern diselesaikan dengan Machine Learning, penalaran simbolik tetap relevan pada sistem yang membutuhkan logika, aturan, dan penjelasan yang dapat dimengerti manusia.\n"
      ]
    },
    {
      "cell_type": "markdown",
      "id": "421e4f5e",
      "metadata": {
        "id": "421e4f5e"
      },
      "source": [
        "\n",
        "## 2. Logical Representations\n",
        "\n",
        "Pengetahuan dapat direpresentasikan dalam bentuk logika formal. Bentuk paling umum:\n",
        "- Propositional Logic: Pernyataan benar/salah.\n",
        "- First-Order Logic (FOL): Lebih ekspresif, menggunakan predikat, variabel, dan kuantor.\n",
        "\n",
        "Contoh proposisi sederhana:\n",
        "- P: Hujan\n",
        "- Q: Jalan licin\n",
        "\n",
        "Aturan:\n",
        "P ⟹ Q\n",
        "Artinya: Jika hujan, maka jalan licin.\n"
      ]
    },
    {
      "cell_type": "markdown",
      "id": "88de79ed",
      "metadata": {
        "id": "88de79ed"
      },
      "source": [
        "\n",
        "## 3. Resolution in Propositional Logic\n",
        "\n",
        "Metode resolution digunakan untuk membuktikan kebenaran pernyataan dengan kontradiksi.\n",
        "\n",
        "Contoh:\n",
        "- Diketahui: P ⟹ Q dan P benar.\n",
        "- Apakah Q benar?\n",
        "\n",
        "Konversi:\n",
        "P ⟹ Q ≡ ¬P ∨ Q\n",
        "\n",
        "Klausa:\n",
        "1. ¬P ∨ Q\n",
        "2. P\n",
        "\n",
        "Gunakan resolution:\n",
        "Resolusi (1) dan (2): Q\n",
        "\n",
        "Hasil: Q terbukti benar.\n"
      ]
    },
    {
      "cell_type": "markdown",
      "id": "012168ba",
      "metadata": {
        "id": "012168ba"
      },
      "source": [
        "\n",
        "## 4. Knowledge Base (KB)\n",
        "\n",
        "Knowledge Base (KB) adalah kumpulan fakta dan aturan.\n",
        "\n",
        "Contoh KB:\n",
        "- Fakta: Human(Socrates)\n",
        "- Aturan: ∀x Human(x) ⟹ Mortal(x)\n",
        "\n",
        "Query:\n",
        "Mortal(Socrates)?\n",
        "\n",
        "Deductions:\n",
        "1. Diketahui Human(Socrates)\n",
        "2. Aturan Human(x) ⟹ Mortal(x)\n",
        "3. Jadi, Mortal(Socrates) benar.\n"
      ]
    },
    {
      "cell_type": "markdown",
      "id": "6703bd33",
      "metadata": {
        "id": "6703bd33"
      },
      "source": [
        "\n",
        "## 5. Inference Methods\n",
        "\n",
        "Beberapa metode inferensi:\n",
        "- Forward Chaining: Mulai dari fakta, terapkan aturan ke depan hingga jawaban ditemukan.\n",
        "- Backward Chaining: Mulai dari query, telusuri ke belakang untuk mencari fakta pendukung.\n",
        "- Resolution: Buktikan dengan kontradiksi.\n",
        "\n",
        "Forward Chaining cocok untuk sistem production rules. Backward Chaining sering digunakan pada expert systems.\n"
      ]
    },
    {
      "cell_type": "markdown",
      "id": "e2ffd4e7",
      "metadata": {
        "id": "e2ffd4e7"
      },
      "source": [
        "\n",
        "## 6. Probabilistic Reasoning\n",
        "\n",
        "Tidak semua pengetahuan pasti benar. Digunakan logika probabilistik.\n",
        "\n",
        "Bayesian Networks: Representasi probabilistik dengan node sebagai variabel acak dan edge sebagai dependensi.\n",
        "\n",
        "Contoh sederhana:\n",
        "\n",
        "Cloudy → Rain → Wet Grass\n",
        "\n",
        "Diketahui:\n",
        "P(Cloudy) = 0.5\n",
        "P(Rain | Cloudy) = 0.8\n",
        "P(Wet Grass | Rain) = 0.9\n",
        "\n",
        "Perhitungan:\n",
        "P(Wet Grass) = P(Wet Grass | Rain) * P(Rain | Cloudy) * P(Cloudy)\n",
        "P(Wet Grass) = 0.9 * 0.8 * 0.5 = 0.36\n"
      ]
    },
    {
      "cell_type": "markdown",
      "id": "1632edf9",
      "metadata": {
        "id": "1632edf9"
      },
      "source": [
        "\n",
        "## 7. Markov Networks\n",
        "\n",
        "Markov Networks atau Markov Random Fields adalah alternatif Bayesian Networks untuk representasi probabilistik tanpa arah.\n",
        "\n",
        "Digunakan ketika hubungan dependensi bersifat undirected, contohnya model gambar dan text labeling.\n"
      ]
    },
    {
      "cell_type": "markdown",
      "id": "e1ccb5c1",
      "metadata": {
        "id": "e1ccb5c1"
      },
      "source": [
        "\n",
        "## 8. Semantic Networks dan Ontologies\n",
        "\n",
        "Semantic Networks adalah graf pengetahuan: node mewakili entitas, edge mewakili hubungan.\n",
        "\n",
        "Contoh:\n",
        "- Node: Dog, Animal\n",
        "- Edge: Dog is-a Animal\n",
        "\n",
        "Ontologies menstrukturkan konsep dan hubungan di domain tertentu. Contoh: WordNet untuk bahasa Inggris.\n"
      ]
    },
    {
      "cell_type": "markdown",
      "id": "341b0e80",
      "metadata": {
        "id": "341b0e80"
      },
      "source": [
        "\n",
        "## 9. Rule-Based Systems\n",
        "\n",
        "Sistem berbasis aturan memiliki bentuk:\n",
        "\n",
        "IF kondisi THEN aksi\n",
        "\n",
        "Contoh aturan diagnostik:\n",
        "IF Fever AND Cough THEN Flu\n",
        "\n",
        "Sistem Expert seperti MYCIN (diagnosis infeksi bakteri) menggunakan ribuan aturan semacam ini.\n"
      ]
    },
    {
      "cell_type": "markdown",
      "id": "072920fd",
      "metadata": {
        "id": "072920fd"
      },
      "source": [
        "\n",
        "## 10. Combining Learning and Reasoning\n",
        "\n",
        "Tren modern menggabungkan Machine Learning dengan Reasoning:\n",
        "\n",
        "- Neuro-Symbolic Systems: Menggunakan model pembelajaran untuk data tidak terstruktur (gambar, teks) lalu melakukan reasoning simbolik.\n",
        "\n",
        "Contoh: Jaringan saraf untuk mengenali objek, kemudian aturan simbolik untuk memutuskan tindakan.\n"
      ]
    },
    {
      "cell_type": "markdown",
      "id": "fe0812c0",
      "metadata": {
        "id": "fe0812c0"
      },
      "source": [
        "\n",
        "## 11. Contoh Kode Rule-Based Inference\n"
      ]
    },
    {
      "cell_type": "code",
      "execution_count": null,
      "id": "230aea74",
      "metadata": {
        "id": "230aea74"
      },
      "outputs": [],
      "source": [
        "\n",
        "# Forward chaining sederhana\n",
        "facts = {\"Human(Socrates)\"}\n",
        "rules = [(\"Human(x)\", \"Mortal(x)\")]\n",
        "\n",
        "new_facts = set()\n",
        "for fact in facts:\n",
        "    for condition, conclusion in rules:\n",
        "        if \"Human\" in fact:\n",
        "            new_facts.add(\"Mortal(Socrates)\")\n",
        "\n",
        "facts.update(new_facts)\n",
        "print(facts)\n"
      ]
    }
  ],
  "metadata": {
    "colab": {
      "provenance": []
    }
  },
  "nbformat": 4,
  "nbformat_minor": 5
}