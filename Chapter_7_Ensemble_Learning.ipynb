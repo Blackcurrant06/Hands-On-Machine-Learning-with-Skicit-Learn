{
  "cells": [
    {
      "cell_type": "markdown",
      "id": "00880054",
      "metadata": {
        "id": "00880054"
      },
      "source": [
        "\n",
        "# **Chapter 7: Ensemble Learning and Random Forests**\n",
        "\n",
        "## **1. Pendahuluan**\n",
        "\n",
        "Bab ini membahas Ensemble Learning untuk menggabungkan beberapa model sederhana menjadi satu model yang lebih kuat. Random Forest adalah contoh Ensemble Learning populer.\n"
      ]
    },
    {
      "cell_type": "markdown",
      "id": "2fb7250d",
      "metadata": {
        "id": "2fb7250d"
      },
      "source": [
        "\n",
        "## **2. Konsep Ensemble Learning**\n",
        "\n",
        "Gabungan banyak model independen untuk hasil rata-rata yang lebih stabil dan akurat.\n"
      ]
    },
    {
      "cell_type": "markdown",
      "id": "4d1ded4c",
      "metadata": {
        "id": "4d1ded4c"
      },
      "source": [
        "\n",
        "## **3. Voting Classifier**\n",
        "\n",
        "Gabungkan beberapa prediktor berbeda.\n",
        "\n",
        "**Contoh Kode:**\n"
      ]
    },
    {
      "cell_type": "code",
      "execution_count": null,
      "id": "b8c3cdcc",
      "metadata": {
        "id": "b8c3cdcc"
      },
      "outputs": [],
      "source": [
        "\n",
        "from sklearn.ensemble import VotingClassifier\n",
        "from sklearn.linear_model import LogisticRegression\n",
        "from sklearn.svm import SVC\n",
        "from sklearn.tree import DecisionTreeClassifier\n",
        "\n",
        "log_clf = LogisticRegression()\n",
        "svm_clf = SVC(probability=True)\n",
        "dt_clf = DecisionTreeClassifier()\n",
        "\n",
        "voting_clf = VotingClassifier(\n",
        "    estimators=[('lr', log_clf), ('svc', svm_clf), ('dt', dt_clf)],\n",
        "    voting='soft'\n",
        ")\n",
        "\n",
        "voting_clf.fit(X_train, y_train)\n"
      ]
    },
    {
      "cell_type": "markdown",
      "id": "e9ef8f67",
      "metadata": {
        "id": "e9ef8f67"
      },
      "source": [
        "\n",
        "## **4. Bagging and Pasting**\n",
        "\n",
        "**Bagging:** Bootstrap sampling dengan replacement.  \n",
        "**Pasting:** Subset tanpa replacement.\n",
        "\n",
        "Mengurangi variance model.\n"
      ]
    },
    {
      "cell_type": "markdown",
      "id": "c3f854d7",
      "metadata": {
        "id": "c3f854d7"
      },
      "source": [
        "\n",
        "## **5. Random Forests**\n",
        "\n",
        "Random Forest = kumpulan Decision Trees dengan teknik Bagging + subset fitur.\n",
        "\n",
        "**Contoh Kode:**\n"
      ]
    },
    {
      "cell_type": "code",
      "execution_count": null,
      "id": "a76a5c85",
      "metadata": {
        "id": "a76a5c85"
      },
      "outputs": [],
      "source": [
        "\n",
        "from sklearn.ensemble import RandomForestClassifier\n",
        "\n",
        "rnd_clf = RandomForestClassifier(n_estimators=500, max_leaf_nodes=16, n_jobs=-1)\n",
        "rnd_clf.fit(X_train, y_train)\n"
      ]
    },
    {
      "cell_type": "markdown",
      "id": "29a1ad9b",
      "metadata": {
        "id": "29a1ad9b"
      },
      "source": [
        "\n",
        "## **6. Feature Importance**\n",
        "\n",
        "Random Forest dapat mengukur pentingnya fitur.\n",
        "\n",
        "**Contoh Kode:**\n"
      ]
    },
    {
      "cell_type": "code",
      "execution_count": null,
      "id": "86aae52f",
      "metadata": {
        "id": "86aae52f"
      },
      "outputs": [],
      "source": [
        "\n",
        "for name, score in zip(iris.feature_names, rnd_clf.feature_importances_):\n",
        "    print(name, \":\", score)\n"
      ]
    },
    {
      "cell_type": "markdown",
      "id": "4f60156d",
      "metadata": {
        "id": "4f60156d"
      },
      "source": [
        "\n",
        "## **7. AdaBoost**\n",
        "\n",
        "Model secara berurutan memperbaiki error model sebelumnya.\n",
        "\n",
        "**Contoh Kode:**\n"
      ]
    },
    {
      "cell_type": "code",
      "execution_count": null,
      "id": "1c1eae9e",
      "metadata": {
        "id": "1c1eae9e"
      },
      "outputs": [],
      "source": [
        "\n",
        "from sklearn.ensemble import AdaBoostClassifier\n",
        "from sklearn.tree import DecisionTreeClassifier\n",
        "\n",
        "ada_clf = AdaBoostClassifier(\n",
        "    DecisionTreeClassifier(max_depth=1),\n",
        "    n_estimators=200,\n",
        "    algorithm=\"SAMME.R\",\n",
        "    learning_rate=0.5\n",
        ")\n",
        "ada_clf.fit(X_train, y_train)\n"
      ]
    },
    {
      "cell_type": "markdown",
      "id": "aed4fe1b",
      "metadata": {
        "id": "aed4fe1b"
      },
      "source": [
        "\n",
        "## **8. Gradient Boosting**\n",
        "\n",
        "Model baru mempelajari residual dari model sebelumnya.\n",
        "\n",
        "**Contoh Kode:**\n"
      ]
    },
    {
      "cell_type": "code",
      "execution_count": null,
      "id": "14bd9bfb",
      "metadata": {
        "id": "14bd9bfb"
      },
      "outputs": [],
      "source": [
        "\n",
        "from sklearn.ensemble import GradientBoostingRegressor\n",
        "\n",
        "gbrt = GradientBoostingRegressor(max_depth=2, n_estimators=3, learning_rate=1.0)\n",
        "gbrt.fit(X, y)\n"
      ]
    }
  ],
  "metadata": {
    "colab": {
      "provenance": []
    }
  },
  "nbformat": 4,
  "nbformat_minor": 5
}