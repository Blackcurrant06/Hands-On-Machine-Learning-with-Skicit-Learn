{
  "cells": [
    {
      "cell_type": "markdown",
      "id": "6e178c09",
      "metadata": {
        "id": "6e178c09"
      },
      "source": [
        "\n",
        "# **Chapter 6: Decision Trees**\n",
        "\n",
        "## **1. Pendahuluan**\n",
        "\n",
        "Bab ini membahas Decision Trees untuk klasifikasi dan regresi. Pohon keputusan mudah diinterpretasikan dan menjadi dasar algoritma Random Forest.\n"
      ]
    },
    {
      "cell_type": "markdown",
      "id": "4fc796ac",
      "metadata": {
        "id": "4fc796ac"
      },
      "source": [
        "\n",
        "## **2. Konsep Decision Tree**\n",
        "\n",
        "- Memecah data secara berulang untuk memaksimalkan pemisahan antar kelas.\n",
        "- Struktur: root, internal node, leaf.\n"
      ]
    },
    {
      "cell_type": "markdown",
      "id": "88d6ff9d",
      "metadata": {
        "id": "88d6ff9d"
      },
      "source": [
        "\n",
        "## **3. Kriteria Pemecahan**\n",
        "\n",
        "- **Gini Impurity:**  \n",
        "  $$\n",
        "  G_i = 1 - \\sum_{k=1}^{n} p_{i,k}^2\n",
        "  $$\n",
        "\n",
        "- **Entropy:**  \n",
        "  $$\n",
        "  H_i = - \\sum_{k=1}^{n} p_{i,k} \\log_2 p_{i,k}\n",
        "  $$\n"
      ]
    },
    {
      "cell_type": "markdown",
      "id": "31c5cec7",
      "metadata": {
        "id": "31c5cec7"
      },
      "source": [
        "\n",
        "## **4. Membuat Decision Tree**\n",
        "\n",
        "**Contoh Kode:**\n"
      ]
    },
    {
      "cell_type": "code",
      "execution_count": null,
      "id": "4cbfc7df",
      "metadata": {
        "id": "4cbfc7df"
      },
      "outputs": [],
      "source": [
        "\n",
        "from sklearn.datasets import load_iris\n",
        "from sklearn.tree import DecisionTreeClassifier\n",
        "\n",
        "iris = load_iris()\n",
        "X = iris.data[:, 2:]  # petal length and width\n",
        "y = iris.target\n",
        "\n",
        "tree_clf = DecisionTreeClassifier(max_depth=2)\n",
        "tree_clf.fit(X, y)\n"
      ]
    },
    {
      "cell_type": "markdown",
      "id": "d558fb9c",
      "metadata": {
        "id": "d558fb9c"
      },
      "source": [
        "\n",
        "## **5. Visualisasi Decision Tree**\n",
        "\n",
        "**Contoh Kode:**\n"
      ]
    },
    {
      "cell_type": "code",
      "execution_count": null,
      "id": "346b24bc",
      "metadata": {
        "id": "346b24bc"
      },
      "outputs": [],
      "source": [
        "\n",
        "from sklearn.tree import export_graphviz\n",
        "\n",
        "export_graphviz(\n",
        "    tree_clf,\n",
        "    out_file=\"iris_tree.dot\",\n",
        "    feature_names=iris.feature_names[2:],\n",
        "    class_names=iris.target_names,\n",
        "    rounded=True,\n",
        "    filled=True\n",
        ")\n"
      ]
    },
    {
      "cell_type": "markdown",
      "id": "eb2274b6",
      "metadata": {
        "id": "eb2274b6"
      },
      "source": [
        "\n",
        "## **6. Membuat Prediksi**\n",
        "\n",
        "Prediksi dilakukan dengan mengikuti cabang pohon sesuai fitur input.\n"
      ]
    },
    {
      "cell_type": "markdown",
      "id": "e902dc41",
      "metadata": {
        "id": "e902dc41"
      },
      "source": [
        "\n",
        "## **7. Kelebihan dan Kekurangan**\n",
        "\n",
        "**Kelebihan:** interpretasi mudah, tidak perlu feature scaling.  \n",
        "**Kekurangan:** rentan overfitting. Solusi: pruning, batasi `max_depth`.\n"
      ]
    },
    {
      "cell_type": "markdown",
      "id": "c4c5e0ba",
      "metadata": {
        "id": "c4c5e0ba"
      },
      "source": [
        "\n",
        "## **8. Decision Tree untuk Regresi**\n",
        "\n",
        "**Contoh Kode:**\n"
      ]
    },
    {
      "cell_type": "code",
      "execution_count": null,
      "id": "9798f51d",
      "metadata": {
        "id": "9798f51d"
      },
      "outputs": [],
      "source": [
        "\n",
        "from sklearn.tree import DecisionTreeRegressor\n",
        "\n",
        "tree_reg = DecisionTreeRegressor(max_depth=2)\n",
        "tree_reg.fit(X, y)\n"
      ]
    }
  ],
  "metadata": {
    "colab": {
      "provenance": []
    }
  },
  "nbformat": 4,
  "nbformat_minor": 5
}