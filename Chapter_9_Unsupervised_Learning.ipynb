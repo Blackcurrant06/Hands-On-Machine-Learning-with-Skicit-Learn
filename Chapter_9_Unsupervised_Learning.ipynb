{
  "cells": [
    {
      "cell_type": "markdown",
      "id": "b2b53d21",
      "metadata": {
        "id": "b2b53d21"
      },
      "source": [
        "\n",
        "# **Chapter 9: Unsupervised Learning Techniques**\n",
        "\n",
        "## **1. Pendahuluan**\n",
        "\n",
        "Teknik Unsupervised Learning belajar dari data tanpa label. Digunakan untuk clustering, anomaly detection, dan menemukan pola tersembunyi.\n"
      ]
    },
    {
      "cell_type": "markdown",
      "id": "785666ee",
      "metadata": {
        "id": "785666ee"
      },
      "source": [
        "\n",
        "## **2. Clustering**\n",
        "\n",
        "Mengelompokkan data serupa. Contoh: segmentasi pelanggan, kompresi gambar.\n"
      ]
    },
    {
      "cell_type": "markdown",
      "id": "a33e48c8",
      "metadata": {
        "id": "a33e48c8"
      },
      "source": [
        "\n",
        "## **3. K-Means Clustering**\n",
        "\n",
        "Bagikan data ke *k* cluster.\n",
        "\n",
        "**Contoh Kode:**\n"
      ]
    },
    {
      "cell_type": "code",
      "execution_count": null,
      "id": "619e5a2e",
      "metadata": {
        "id": "619e5a2e"
      },
      "outputs": [],
      "source": [
        "\n",
        "from sklearn.cluster import KMeans\n",
        "\n",
        "kmeans = KMeans(n_clusters=3)\n",
        "kmeans.fit(X)\n",
        "\n",
        "kmeans.labels_\n",
        "kmeans.cluster_centers_\n",
        "kmeans.predict([[0, 0]])\n"
      ]
    },
    {
      "cell_type": "markdown",
      "id": "1f728a28",
      "metadata": {
        "id": "1f728a28"
      },
      "source": [
        "\n",
        "## **4. DBSCAN**\n",
        "\n",
        "Deteksi cluster berbasis kepadatan. Tidak butuh jumlah cluster di awal.\n",
        "\n",
        "**Contoh Kode:**\n"
      ]
    },
    {
      "cell_type": "code",
      "execution_count": null,
      "id": "7a050fb8",
      "metadata": {
        "id": "7a050fb8"
      },
      "outputs": [],
      "source": [
        "\n",
        "from sklearn.cluster import DBSCAN\n",
        "\n",
        "dbscan = DBSCAN(eps=0.3, min_samples=5)\n",
        "dbscan.fit(X)\n",
        "dbscan.labels_\n"
      ]
    },
    {
      "cell_type": "markdown",
      "id": "6c0c4a02",
      "metadata": {
        "id": "6c0c4a02"
      },
      "source": [
        "\n",
        "## **5. Hierarchical Clustering**\n",
        "\n",
        "Bangun hierarki cluster, divisualisasi dengan dendrogram.\n",
        "\n",
        "**Contoh Kode:**\n"
      ]
    },
    {
      "cell_type": "code",
      "execution_count": null,
      "id": "d71ac676",
      "metadata": {
        "id": "d71ac676"
      },
      "outputs": [],
      "source": [
        "\n",
        "from sklearn.cluster import AgglomerativeClustering\n",
        "\n",
        "agg_clust = AgglomerativeClustering(n_clusters=3)\n",
        "agg_clust.fit(X)\n",
        "agg_clust.labels_\n"
      ]
    },
    {
      "cell_type": "markdown",
      "id": "ec8c031b",
      "metadata": {
        "id": "ec8c031b"
      },
      "source": [
        "\n",
        "## **6. Gaussian Mixtures Model (GMM)**\n",
        "\n",
        "Soft clustering probabilistik.\n",
        "\n",
        "**Contoh Kode:**\n"
      ]
    },
    {
      "cell_type": "code",
      "execution_count": null,
      "id": "1750ba34",
      "metadata": {
        "id": "1750ba34"
      },
      "outputs": [],
      "source": [
        "\n",
        "from sklearn.mixture import GaussianMixture\n",
        "\n",
        "gmm = GaussianMixture(n_components=3)\n",
        "gmm.fit(X)\n",
        "\n",
        "gmm.predict(X)\n",
        "gmm.predict_proba(X)\n"
      ]
    },
    {
      "cell_type": "markdown",
      "id": "e4d5e300",
      "metadata": {
        "id": "e4d5e300"
      },
      "source": [
        "\n",
        "## **7. Anomaly Detection**\n",
        "\n",
        "Deteksi outlier yang tidak sesuai pola data.\n",
        "\n",
        "### One-Class SVM\n"
      ]
    },
    {
      "cell_type": "code",
      "execution_count": null,
      "id": "fdf82ab0",
      "metadata": {
        "id": "fdf82ab0"
      },
      "outputs": [],
      "source": [
        "\n",
        "from sklearn.svm import OneClassSVM\n",
        "\n",
        "oc_svm = OneClassSVM(nu=0.1, kernel=\"rbf\", gamma=0.1)\n",
        "oc_svm.fit(X)\n",
        "oc_svm.predict(X)\n"
      ]
    },
    {
      "cell_type": "markdown",
      "id": "c61da812",
      "metadata": {
        "id": "c61da812"
      },
      "source": [
        "\n",
        "### Isolation Forest\n"
      ]
    },
    {
      "cell_type": "code",
      "execution_count": null,
      "id": "4a21b10e",
      "metadata": {
        "id": "4a21b10e"
      },
      "outputs": [],
      "source": [
        "\n",
        "from sklearn.ensemble import IsolationForest\n",
        "\n",
        "iso_forest = IsolationForest(contamination=0.1)\n",
        "iso_forest.fit(X)\n",
        "iso_forest.predict(X)\n"
      ]
    },
    {
      "cell_type": "markdown",
      "id": "06719acc",
      "metadata": {
        "id": "06719acc"
      },
      "source": [
        "\n",
        "## **8. Visualisasi Cluster**\n",
        "\n",
        "**Contoh Kode:**\n"
      ]
    },
    {
      "cell_type": "code",
      "execution_count": null,
      "id": "a92a43d9",
      "metadata": {
        "id": "a92a43d9"
      },
      "outputs": [],
      "source": [
        "\n",
        "import matplotlib.pyplot as plt\n",
        "\n",
        "plt.scatter(X[:, 0], X[:, 1], c=kmeans.labels_)\n",
        "plt.scatter(kmeans.cluster_centers_[:, 0], kmeans.cluster_centers_[:, 1], s=200, c='red')\n",
        "plt.show()\n"
      ]
    },
    {
      "cell_type": "markdown",
      "id": "15651291",
      "metadata": {
        "id": "15651291"
      },
      "source": [
        "\n",
        "## **9. Tips Praktis**\n",
        "\n",
        "- Feature scaling sebelum clustering.\n",
        "- Coba beberapa algoritma.\n",
        "- Gunakan PCA untuk visualisasi.\n",
        "\n"
      ]
    }
  ],
  "metadata": {
    "colab": {
      "provenance": []
    }
  },
  "nbformat": 4,
  "nbformat_minor": 5
}