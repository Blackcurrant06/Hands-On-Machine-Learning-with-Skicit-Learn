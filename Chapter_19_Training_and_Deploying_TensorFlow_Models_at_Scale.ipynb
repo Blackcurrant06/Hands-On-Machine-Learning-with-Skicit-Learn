{
  "nbformat": 4,
  "nbformat_minor": 0,
  "metadata": {
    "colab": {
      "provenance": [],
      "authorship_tag": "ABX9TyMUTbZQ6wvw+HnlKnpX8xIu"
    },
    "kernelspec": {
      "name": "python3",
      "display_name": "Python 3"
    },
    "language_info": {
      "name": "python"
    }
  },
  "cells": [
    {
      "cell_type": "markdown",
      "source": [
        "# Chapter 19: Training and Deploying TensorFlow Models at Scale\n",
        "\n",
        "## 1. Pendahuluan\n",
        "\n",
        "Pada bab ini, kita akan mempelajari bagaimana cara melatih dan mendistribusikan model TensorFlow pada skala besar. Fokusnya adalah memanfaatkan infrastruktur komputasi modern (multi-GPU, multi-node, dan Cloud) agar pelatihan lebih cepat dan deployment lebih andal.\n"
      ],
      "metadata": {
        "id": "W0q-WLhQUHjo"
      }
    },
    {
      "cell_type": "markdown",
      "source": [
        "## 2. Mengapa Butuh Skala Besar\n",
        "\n",
        "Beberapa alasan model ML memerlukan pelatihan skala besar:\n",
        "- Dataset sangat besar (misalnya ImageNet, video streaming)\n",
        "- Model sangat kompleks (Transformer, LLM)\n",
        "- Waktu pelatihan perlu dipercepat (reduksi waktu dari minggu ke jam)\n"
      ],
      "metadata": {
        "id": "H_ujyybDUJ76"
      }
    },
    {
      "cell_type": "markdown",
      "source": [
        "## 3. Strategi Distribusi di TensorFlow\n",
        "\n",
        "TensorFlow menyediakan modul `tf.distribute` untuk mempermudah paralelisme.\n",
        "\n",
        "Strategi distribusi umum:\n",
        "- MirroredStrategy: Distribusi pada multi-GPU dalam satu mesin.\n",
        "- MultiWorkerMirroredStrategy: Distribusi pada beberapa worker di cluster.\n",
        "- TPUStrategy: Optimasi untuk TPU di cloud.\n",
        "- ParameterServerStrategy: Untuk cluster besar dengan parameter server.\n"
      ],
      "metadata": {
        "id": "6R8Y4bPxUL9X"
      }
    },
    {
      "cell_type": "markdown",
      "source": [
        "## 4. Contoh Penggunaan MirroredStrategy\n",
        "\n",
        "Contoh multi-GPU di satu mesin:\n"
      ],
      "metadata": {
        "id": "1cIGIgnYUOvp"
      }
    },
    {
      "cell_type": "code",
      "source": [
        "import tensorflow as tf\n",
        "\n",
        "strategy = tf.distribute.MirroredStrategy()\n",
        "\n",
        "with strategy.scope():\n",
        "    model = tf.keras.Sequential([\n",
        "        tf.keras.layers.Dense(512, activation='relu'),\n",
        "        tf.keras.layers.Dense(10)\n",
        "    ])\n",
        "    model.compile(loss='sparse_categorical_crossentropy',\n",
        "                  optimizer='adam',\n",
        "                  metrics=['accuracy'])\n"
      ],
      "metadata": {
        "id": "DUECFWxQUPOI"
      },
      "execution_count": null,
      "outputs": []
    },
    {
      "cell_type": "markdown",
      "source": [
        "## 5. MultiWorkerMirroredStrategy\n",
        "\n",
        "Untuk skenario multi-node:\n",
        "\n",
        "1. Jalankan environment variable TF_CONFIG di tiap node:\n",
        "\n",
        "```json\n",
        "{\n",
        "  \"cluster\": {\n",
        "    \"worker\": [\n",
        "      \"worker0.example.com:12345\",\n",
        "      \"worker1.example.com:12345\"\n",
        "    ]\n",
        "  },\n",
        "  \"task\": {\"type\": \"worker\", \"index\": 0}\n",
        "}\n",
        "\n",
        "\n"
      ],
      "metadata": {
        "id": "nJew346NUTAT"
      }
    },
    {
      "cell_type": "markdown",
      "source": [
        "2. Gunakan script Python dengan MultiWorkerMirroredStrategy."
      ],
      "metadata": {
        "id": "ut7iN-p5Up6e"
      }
    },
    {
      "cell_type": "markdown",
      "source": [
        "\n",
        "## 6. Sinkronisasi Gradien\n",
        "\n",
        "Dalam training distributed, setiap replica menghitung gradien. TensorFlow otomatis melakukan sinkronisasi gradien antar device untuk memastikan parameter tetap konsisten.\n"
      ],
      "metadata": {
        "id": "y5emeRMuUdW2"
      }
    },
    {
      "cell_type": "markdown",
      "source": [
        "## 7. Menangani Dataset Besar\n",
        "\n",
        "Gunakan `tf.data` untuk pipeline input efisien:\n",
        "- `shuffle` untuk acak data.\n",
        "- `prefetch` untuk overlap I/O.\n",
        "- `interleave` untuk membaca banyak file paralel.\n",
        "\n",
        "Contoh:\n"
      ],
      "metadata": {
        "id": "fcxps8yUUxFF"
      }
    },
    {
      "cell_type": "code",
      "source": [
        "import tensorflow as tf\n",
        "\n",
        "dataset = tf.data.TFRecordDataset([\"data1.tfrecord\", \"data2.tfrecord\"])\n",
        "dataset = dataset.shuffle(1000).repeat().batch(32).prefetch(tf.data.AUTOTUNE)\n"
      ],
      "metadata": {
        "id": "STJsJ3vZUx3I"
      },
      "execution_count": null,
      "outputs": []
    },
    {
      "cell_type": "markdown",
      "source": [
        "## 8. Training di Cloud\n",
        "\n",
        "Provider cloud populer:\n",
        "- Google Cloud AI Platform\n",
        "- AWS SageMaker\n",
        "- Azure ML\n",
        "\n",
        "Keuntungan:\n",
        "- TPU atau GPU high-end tersedia.\n",
        "- Autoscaling.\n",
        "- Monitoring dan logging terintegrasi.\n"
      ],
      "metadata": {
        "id": "qAVZOaxXU1NC"
      }
    },
    {
      "cell_type": "markdown",
      "source": [
        "## 9. Export Model untuk Serving\n",
        "\n",
        "Gunakan format SavedModel agar model siap deploy ke TensorFlow Serving atau cloud.\n"
      ],
      "metadata": {
        "id": "sfQRDGtBU3Tq"
      }
    },
    {
      "cell_type": "code",
      "source": [
        "model.save(\"my_saved_model\")\n",
        "\n",
        "import tensorflow as tf\n",
        "model = tf.keras.models.load_model(\"my_saved_model\")\n"
      ],
      "metadata": {
        "id": "F6l4P8k1U3o7"
      },
      "execution_count": null,
      "outputs": []
    },
    {
      "cell_type": "markdown",
      "source": [
        "## 10. TensorFlow Serving\n",
        "\n",
        "TensorFlow Serving adalah server high-performance untuk melayani model ML.\n",
        "\n",
        "Contoh command Docker:\n",
        "\n",
        "```bash\n",
        "docker run -p 8501:8501 \\\n",
        "  --mount type=bind,source=$(pwd)/my_saved_model,target=/models/my_model \\\n",
        "  -e MODEL_NAME=my_model -t tensorflow/serving\n",
        "\n",
        "```\n",
        "API:\n",
        "\n",
        "* REST: http://localhost:8501/v1/models/my_model:predict"
      ],
      "metadata": {
        "id": "WTqG7FE0U6g7"
      }
    },
    {
      "cell_type": "markdown",
      "source": [
        "## 11. Monitoring dan A/B Testing\n",
        "\n",
        "Untuk production, penting untuk:\n",
        "- Monitor performa model (latency, throughput, error rate)\n",
        "- A/B Testing untuk membandingkan versi model\n",
        "- Canary Deployment: rilis model baru ke subset user untuk uji stabilitas.\n"
      ],
      "metadata": {
        "id": "bELhD1YDVGr4"
      }
    }
  ]
}