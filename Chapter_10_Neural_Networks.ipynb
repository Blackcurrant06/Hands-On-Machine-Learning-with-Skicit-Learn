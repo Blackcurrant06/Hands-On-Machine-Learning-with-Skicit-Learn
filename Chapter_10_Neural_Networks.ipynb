{
  "cells": [
    {
      "cell_type": "markdown",
      "id": "2da44cd7",
      "metadata": {
        "id": "2da44cd7"
      },
      "source": [
        "\n",
        "# **Chapter 10: Introduction to Artificial Neural Networks with Keras**\n",
        "\n",
        "## **1. Pendahuluan**\n",
        "\n",
        "Perkenalan Artificial Neural Networks (ANN) dengan Keras. Digunakan untuk pengenalan gambar, suara, NLP, dll.\n"
      ]
    },
    {
      "cell_type": "markdown",
      "id": "926a622e",
      "metadata": {
        "id": "926a622e"
      },
      "source": [
        "\n",
        "## **2. Struktur Jaringan Syaraf Tiruan**\n",
        "\n",
        "- Neuron: unit komputasi.\n",
        "- Layer: input, hidden, output.\n",
        "- Feedforward: layer hanya terhubung ke layer berikutnya.\n",
        "\n",
        "Output satu neuron:\n",
        "\n",
        "$$\n",
        "z = \\mathbf{w}^T \\mathbf{x} + b, \\quad y = \\sigma(z)\n",
        "$$\n"
      ]
    },
    {
      "cell_type": "markdown",
      "id": "cdbb6da3",
      "metadata": {
        "id": "cdbb6da3"
      },
      "source": [
        "\n",
        "## **3. Fungsi Aktivasi**\n",
        "\n",
        "- ReLU: \\( f(z) = \\max(0, z) \\)\n",
        "- Sigmoid: \\( f(z) = \\frac{1}{1 + e^{-z}} \\)\n",
        "- Softmax: untuk multi-class classification.\n"
      ]
    },
    {
      "cell_type": "markdown",
      "id": "fc01fb5d",
      "metadata": {
        "id": "fc01fb5d"
      },
      "source": [
        "\n",
        "## **4. Membuat Neural Network dengan Keras**\n",
        "\n",
        "**Contoh:**\n"
      ]
    },
    {
      "cell_type": "code",
      "execution_count": null,
      "id": "d8b001ea",
      "metadata": {
        "id": "d8b001ea"
      },
      "outputs": [],
      "source": [
        "\n",
        "import tensorflow as tf\n",
        "from tensorflow import keras\n",
        "\n",
        "model = keras.models.Sequential([\n",
        "    keras.layers.Dense(30, activation=\"relu\", input_shape=X_train.shape[1:]),\n",
        "    keras.layers.Dense(1, activation=\"sigmoid\")\n",
        "])\n"
      ]
    },
    {
      "cell_type": "markdown",
      "id": "507ca663",
      "metadata": {
        "id": "507ca663"
      },
      "source": [
        "\n",
        "## **5. Kompilasi Model**\n"
      ]
    },
    {
      "cell_type": "code",
      "execution_count": null,
      "id": "dd6cf25c",
      "metadata": {
        "id": "dd6cf25c"
      },
      "outputs": [],
      "source": [
        "\n",
        "model.compile(loss=\"binary_crossentropy\",\n",
        "              optimizer=\"sgd\",\n",
        "              metrics=[\"accuracy\"])\n"
      ]
    },
    {
      "cell_type": "markdown",
      "id": "584cc1ab",
      "metadata": {
        "id": "584cc1ab"
      },
      "source": [
        "\n",
        "## **6. Melatih Model**\n"
      ]
    },
    {
      "cell_type": "code",
      "execution_count": null,
      "id": "dd8625f3",
      "metadata": {
        "id": "dd8625f3"
      },
      "outputs": [],
      "source": [
        "\n",
        "history = model.fit(X_train, y_train, epochs=20, validation_data=(X_valid, y_valid))\n"
      ]
    },
    {
      "cell_type": "markdown",
      "id": "e756e447",
      "metadata": {
        "id": "e756e447"
      },
      "source": [
        "\n",
        "## **7. Evaluasi dan Prediksi**\n"
      ]
    },
    {
      "cell_type": "code",
      "execution_count": null,
      "id": "ea4b5f85",
      "metadata": {
        "id": "ea4b5f85"
      },
      "outputs": [],
      "source": [
        "\n",
        "model.evaluate(X_test, y_test)\n",
        "y_proba = model.predict(X_new)\n"
      ]
    },
    {
      "cell_type": "markdown",
      "id": "6df23330",
      "metadata": {
        "id": "6df23330"
      },
      "source": [
        "\n",
        "## **8. Callbacks**\n",
        "\n",
        "EarlyStopping dan ModelCheckpoint.\n"
      ]
    },
    {
      "cell_type": "code",
      "execution_count": null,
      "id": "c2faf943",
      "metadata": {
        "id": "c2faf943"
      },
      "outputs": [],
      "source": [
        "\n",
        "checkpoint_cb = keras.callbacks.ModelCheckpoint(\"best_model.h5\")\n",
        "early_stopping_cb = keras.callbacks.EarlyStopping(patience=10)\n",
        "\n",
        "history = model.fit(X_train, y_train,\n",
        "                    epochs=100,\n",
        "                    validation_data=(X_valid, y_valid),\n",
        "                    callbacks=[checkpoint_cb, early_stopping_cb])\n"
      ]
    },
    {
      "cell_type": "markdown",
      "id": "92be5bc8",
      "metadata": {
        "id": "92be5bc8"
      },
      "source": [
        "\n",
        "## **9. Visualisasi Training**\n"
      ]
    },
    {
      "cell_type": "code",
      "execution_count": null,
      "id": "e8917f75",
      "metadata": {
        "id": "e8917f75"
      },
      "outputs": [],
      "source": [
        "\n",
        "import pandas as pd\n",
        "import matplotlib.pyplot as plt\n",
        "\n",
        "pd.DataFrame(history.history).plot(figsize=(8, 5))\n",
        "plt.grid(True)\n",
        "plt.show()\n"
      ]
    },
    {
      "cell_type": "markdown",
      "id": "19bdeb52",
      "metadata": {
        "id": "19bdeb52"
      },
      "source": [
        "\n",
        "## **10. Save & Load Model**\n"
      ]
    },
    {
      "cell_type": "code",
      "execution_count": null,
      "id": "656a63fc",
      "metadata": {
        "id": "656a63fc"
      },
      "outputs": [],
      "source": [
        "\n",
        "model.save(\"my_model.h5\")\n",
        "model = keras.models.load_model(\"my_model.h5\")\n"
      ]
    }
  ],
  "metadata": {
    "colab": {
      "provenance": []
    }
  },
  "nbformat": 4,
  "nbformat_minor": 5
}