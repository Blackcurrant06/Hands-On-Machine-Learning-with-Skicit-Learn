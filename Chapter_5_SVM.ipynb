{
  "cells": [
    {
      "cell_type": "markdown",
      "id": "11bbe8b9",
      "metadata": {
        "id": "11bbe8b9"
      },
      "source": [
        "\n",
        "# **Chapter 5: Support Vector Machines (SVM)**\n",
        "\n",
        "## **1. Pendahuluan**\n",
        "\n",
        "Bab ini membahas Support Vector Machines (SVM) untuk klasifikasi dan regresi. SVM mencari hyperplane optimal untuk memisahkan kelas dengan margin maksimum.\n"
      ]
    },
    {
      "cell_type": "markdown",
      "id": "6c0c6314",
      "metadata": {
        "id": "6c0c6314"
      },
      "source": [
        "\n",
        "## **2. Konsep Dasar SVM**\n",
        "\n",
        "- SVM mencari *hyperplane* dengan *maximum margin*.\n",
        "- Titik data terdekat disebut **support vectors**.\n"
      ]
    },
    {
      "cell_type": "markdown",
      "id": "ba6cb150",
      "metadata": {
        "id": "ba6cb150"
      },
      "source": [
        "\n",
        "## **3. Linear SVM Classifier**\n",
        "\n",
        "Fungsi keputusan:\n",
        "\n",
        "$$\n",
        "\\mathbf{w}^T \\mathbf{x} + b = 0\n",
        "$$\n"
      ]
    },
    {
      "cell_type": "markdown",
      "id": "6c97c54b",
      "metadata": {
        "id": "6c97c54b"
      },
      "source": [
        "\n",
        "## **4. Soft Margin Classification**\n",
        "\n",
        "Menyeimbangkan margin lebar dengan kesalahan klasifikasi menggunakan parameter **C**.\n"
      ]
    },
    {
      "cell_type": "markdown",
      "id": "8a11e50d",
      "metadata": {
        "id": "8a11e50d"
      },
      "source": [
        "\n",
        "## **5. Implementasi Linear SVM**\n",
        "\n",
        "**Contoh Kode:**\n"
      ]
    },
    {
      "cell_type": "code",
      "execution_count": null,
      "id": "db61ab44",
      "metadata": {
        "id": "db61ab44"
      },
      "outputs": [],
      "source": [
        "\n",
        "from sklearn import datasets\n",
        "from sklearn.svm import LinearSVC\n",
        "import numpy as np\n",
        "\n",
        "iris = datasets.load_iris()\n",
        "X = iris[\"data\"][:, (2, 3)]  # petal length, petal width\n",
        "y = (iris[\"target\"] == 2).astype(np.float64)  # iris virginica atau bukan\n",
        "\n",
        "svm_clf = LinearSVC(C=1, loss=\"hinge\")\n",
        "svm_clf.fit(X, y)\n"
      ]
    },
    {
      "cell_type": "markdown",
      "id": "d312670a",
      "metadata": {
        "id": "d312670a"
      },
      "source": [
        "\n",
        "## **6. Nonlinear SVM Classification**\n",
        "\n",
        "Gunakan **polynomial kernel** atau **RBF kernel** untuk data non-linear.\n"
      ]
    },
    {
      "cell_type": "markdown",
      "id": "08956ca5",
      "metadata": {
        "id": "08956ca5"
      },
      "source": [
        "\n",
        "## **7. Polynomial Kernel**\n",
        "\n",
        "**Contoh Kode:**\n"
      ]
    },
    {
      "cell_type": "code",
      "execution_count": null,
      "id": "90d99704",
      "metadata": {
        "id": "90d99704"
      },
      "outputs": [],
      "source": [
        "\n",
        "from sklearn.svm import SVC\n",
        "\n",
        "poly_kernel_svm_clf = SVC(kernel=\"poly\", degree=3, C=5)\n",
        "poly_kernel_svm_clf.fit(X, y)\n"
      ]
    },
    {
      "cell_type": "markdown",
      "id": "333b030e",
      "metadata": {
        "id": "333b030e"
      },
      "source": [
        "\n",
        "## **8. RBF Kernel**\n",
        "\n",
        "RBF Kernel (Gaussian):\n",
        "\n",
        "$$\n",
        "K(x, l) = \\exp(-\\gamma ||x - l||^2)\n",
        "$$\n",
        "\n",
        "**Contoh Kode:**\n"
      ]
    },
    {
      "cell_type": "code",
      "execution_count": null,
      "id": "03bf6aed",
      "metadata": {
        "id": "03bf6aed"
      },
      "outputs": [],
      "source": [
        "\n",
        "rbf_kernel_svm_clf = SVC(kernel=\"rbf\", gamma=5, C=0.001)\n",
        "rbf_kernel_svm_clf.fit(X, y)\n"
      ]
    },
    {
      "cell_type": "markdown",
      "id": "158138ee",
      "metadata": {
        "id": "158138ee"
      },
      "source": [
        "\n",
        "## **9. SVM Regression**\n",
        "\n",
        "Gunakan SVR untuk regresi:\n",
        "\n",
        "**Contoh Kode:**\n"
      ]
    },
    {
      "cell_type": "code",
      "execution_count": null,
      "id": "9e08760c",
      "metadata": {
        "id": "9e08760c"
      },
      "outputs": [],
      "source": [
        "\n",
        "from sklearn.svm import SVR\n",
        "\n",
        "svm_reg = SVR(kernel=\"linear\", C=100)\n",
        "svm_reg.fit(X, y)\n"
      ]
    }
  ],
  "metadata": {
    "colab": {
      "provenance": []
    }
  },
  "nbformat": 4,
  "nbformat_minor": 5
}